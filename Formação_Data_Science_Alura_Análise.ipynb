{
  "nbformat": 4,
  "nbformat_minor": 0,
  "metadata": {
    "kernelspec": {
      "display_name": "Python 3",
      "language": "python",
      "name": "python3"
    },
    "language_info": {
      "codemirror_mode": {
        "name": "ipython",
        "version": 3
      },
      "file_extension": ".py",
      "mimetype": "text/x-python",
      "name": "python",
      "nbconvert_exporter": "python",
      "pygments_lexer": "ipython3",
      "version": "3.7.4"
    },
    "colab": {
      "name": "Formação_Data_Science_Alura_Análise.ipynb",
      "provenance": []
    }
  },
  "cells": [
    {
      "cell_type": "markdown",
      "metadata": {
        "id": "xpSJjl-V-S9C",
        "colab_type": "text"
      },
      "source": [
        "## Pergunta: Coloque um cabeçalho nesse notebook com o seu nome e resumindo o que descobriu ao explorar esses dados"
      ]
    },
    {
      "cell_type": "markdown",
      "metadata": {
        "id": "aVbxQwPF-S9E",
        "colab_type": "text"
      },
      "source": [
        "## Formação Data Science Alura - Análise exploratória do MovieLens\n",
        "\n",
        "Na formação de Data Scienda www.alura.com.br um dos conjuntos de dados que utilizamos é o de avaliações para filmes no site MovieLens. Neste projeto faremos uma análise exploratória desses dados."
      ]
    },
    {
      "cell_type": "markdown",
      "metadata": {
        "id": "5eMspKLO-S9F",
        "colab_type": "text"
      },
      "source": [
        "### Dicas para o projeto completo:\n",
        "\n",
        "- todo gráfico deve ter um título, labels e legendas que fazem sentido\n",
        "- configure um tamanho adequado para os gráficos\n",
        "- utilize as versões dos arquivos de dados disponíveis no github"
      ]
    },
    {
      "cell_type": "markdown",
      "metadata": {
        "id": "YQIzVkJp-S9G",
        "colab_type": "text"
      },
      "source": [
        "## Pergunta: conferindo as versões utilizadas\n",
        "\n",
        "- Devemos usar pandas 0.24.0 ou mais recente\n",
        "- Devemos usar seaborn 0.9.0 ou mais recente\n",
        "- Devemos usar scipy 1.2.0 ou mais recente"
      ]
    },
    {
      "cell_type": "code",
      "metadata": {
        "id": "CxSc8ee1-S9H",
        "colab_type": "code",
        "outputId": "9213cfc0-f3cb-481c-e062-a31090bc6043",
        "colab": {
          "base_uri": "https://localhost:8080/"
        }
      },
      "source": [
        "!pip install pandas==\"0.24.0\" --quiet\n",
        "!pip install seaborn==\"0.9.0\" --quiet\n",
        "!pip install scipy==\"1.2.0\" --quiet"
      ],
      "execution_count": 0,
      "outputs": [
        {
          "output_type": "stream",
          "text": [
            "\u001b[K     |████████████████████████████████| 10.1MB 29kB/s \n",
            "\u001b[31mERROR: xarray 0.15.0 has requirement pandas>=0.25, but you'll have pandas 0.24.0 which is incompatible.\u001b[0m\n",
            "\u001b[31mERROR: plotnine 0.6.0 has requirement pandas>=0.25.0, but you'll have pandas 0.24.0 which is incompatible.\u001b[0m\n",
            "\u001b[31mERROR: mizani 0.6.0 has requirement pandas>=0.25.0, but you'll have pandas 0.24.0 which is incompatible.\u001b[0m\n",
            "\u001b[31mERROR: google-colab 1.0.0 has requirement pandas~=0.25.0; python_version >= \"3.0\", but you'll have pandas 0.24.0 which is incompatible.\u001b[0m\n",
            "\u001b[K     |████████████████████████████████| 215kB 2.8MB/s \n",
            "\u001b[K     |████████████████████████████████| 26.6MB 1.6MB/s \n",
            "\u001b[31mERROR: tensorflow-federated 0.12.0 has requirement tensorflow~=2.1.0, but you'll have tensorflow 1.15.0 which is incompatible.\u001b[0m\n",
            "\u001b[31mERROR: tensorflow-federated 0.12.0 has requirement tensorflow-addons~=0.7.0, but you'll have tensorflow-addons 0.8.3 which is incompatible.\u001b[0m\n",
            "\u001b[31mERROR: plotnine 0.6.0 has requirement pandas>=0.25.0, but you'll have pandas 0.24.0 which is incompatible.\u001b[0m\n",
            "\u001b[31mERROR: albumentations 0.1.12 has requirement imgaug<0.2.7,>=0.2.5, but you'll have imgaug 0.2.9 which is incompatible.\u001b[0m\n",
            "\u001b[?25h"
          ],
          "name": "stdout"
        }
      ]
    },
    {
      "cell_type": "code",
      "metadata": {
        "id": "7OzatMpe-S9L",
        "colab_type": "code",
        "outputId": "4b0678f1-50c8-41a8-d55f-cf6887aed679",
        "colab": {
          "base_uri": "https://localhost:8080/"
        }
      },
      "source": [
        "import pandas as pd\n",
        "import numpy as np\n",
        "import seaborn as sns\n",
        "import scipy\n",
        "\n",
        "print(\"Usando pandas %s\" % pd.__version__)\n",
        "print(\"Usando seaborn %s\" % sns.__version__)\n",
        "print(\"Usando scipy %s\" % scipy.__version__)"
      ],
      "execution_count": 0,
      "outputs": [
        {
          "output_type": "stream",
          "text": [
            "Usando pandas 0.25.3\n",
            "Usando seaborn 0.9.0\n",
            "Usando scipy 1.2.0\n"
          ],
          "name": "stdout"
        }
      ]
    },
    {
      "cell_type": "markdown",
      "metadata": {
        "id": "c3qDfhIn-S9N",
        "colab_type": "text"
      },
      "source": [
        "## Pergunta: carregue os filmes\n",
        "\n",
        "- os dados `https://raw.githubusercontent.com/alura-cursos/formacao-data-science/master/movies.csv` devem ser carregado em `filmes`\n",
        "- renomeie as colunas para `filmeId`, `titulo` e `generos`\n",
        "- configure o indice (`index`) para ser o `filmeId`"
      ]
    },
    {
      "cell_type": "code",
      "metadata": {
        "id": "ObYQw50D-S9O",
        "colab_type": "code",
        "outputId": "da53fbab-f4b9-4119-f749-4222f91b27fd",
        "colab": {
          "base_uri": "https://localhost:8080/"
        }
      },
      "source": [
        "filmes = pd.read_csv('movies.csv')\n",
        "filmes.columns = (['filmeId', 'titulo','generos'])\n",
        "filmes = filmes.set_index('filmeId')"
      ],
      "execution_count": 0,
      "outputs": [
        {
          "output_type": "error",
          "ename": "FileNotFoundError",
          "evalue": "ignored",
          "traceback": [
            "\u001b[0;31m---------------------------------------------------------------------------\u001b[0m",
            "\u001b[0;31mFileNotFoundError\u001b[0m                         Traceback (most recent call last)",
            "\u001b[0;32m<ipython-input-3-3681fd2e3b59>\u001b[0m in \u001b[0;36m<module>\u001b[0;34m()\u001b[0m\n\u001b[0;32m----> 1\u001b[0;31m \u001b[0mfilmes\u001b[0m \u001b[0;34m=\u001b[0m \u001b[0mpd\u001b[0m\u001b[0;34m.\u001b[0m\u001b[0mread_csv\u001b[0m\u001b[0;34m(\u001b[0m\u001b[0;34m'movies.csv'\u001b[0m\u001b[0;34m)\u001b[0m\u001b[0;34m\u001b[0m\u001b[0;34m\u001b[0m\u001b[0m\n\u001b[0m\u001b[1;32m      2\u001b[0m \u001b[0mfilmes\u001b[0m\u001b[0;34m.\u001b[0m\u001b[0mcolumns\u001b[0m \u001b[0;34m=\u001b[0m \u001b[0;34m(\u001b[0m\u001b[0;34m[\u001b[0m\u001b[0;34m'filmeId'\u001b[0m\u001b[0;34m,\u001b[0m \u001b[0;34m'titulo'\u001b[0m\u001b[0;34m,\u001b[0m\u001b[0;34m'generos'\u001b[0m\u001b[0;34m]\u001b[0m\u001b[0;34m)\u001b[0m\u001b[0;34m\u001b[0m\u001b[0;34m\u001b[0m\u001b[0m\n\u001b[1;32m      3\u001b[0m \u001b[0mfilmes\u001b[0m \u001b[0;34m=\u001b[0m \u001b[0mfilmes\u001b[0m\u001b[0;34m.\u001b[0m\u001b[0mset_index\u001b[0m\u001b[0;34m(\u001b[0m\u001b[0;34m'filmeId'\u001b[0m\u001b[0;34m)\u001b[0m\u001b[0;34m\u001b[0m\u001b[0;34m\u001b[0m\u001b[0m\n",
            "\u001b[0;32m/usr/local/lib/python3.6/dist-packages/pandas/io/parsers.py\u001b[0m in \u001b[0;36mparser_f\u001b[0;34m(filepath_or_buffer, sep, delimiter, header, names, index_col, usecols, squeeze, prefix, mangle_dupe_cols, dtype, engine, converters, true_values, false_values, skipinitialspace, skiprows, skipfooter, nrows, na_values, keep_default_na, na_filter, verbose, skip_blank_lines, parse_dates, infer_datetime_format, keep_date_col, date_parser, dayfirst, cache_dates, iterator, chunksize, compression, thousands, decimal, lineterminator, quotechar, quoting, doublequote, escapechar, comment, encoding, dialect, error_bad_lines, warn_bad_lines, delim_whitespace, low_memory, memory_map, float_precision)\u001b[0m\n\u001b[1;32m    683\u001b[0m                     \u001b[0msqueeze\u001b[0m\u001b[0;34m=\u001b[0m\u001b[0msqueeze\u001b[0m\u001b[0;34m,\u001b[0m\u001b[0;34m\u001b[0m\u001b[0;34m\u001b[0m\u001b[0m\n\u001b[1;32m    684\u001b[0m                     \u001b[0mmemory_map\u001b[0m\u001b[0;34m=\u001b[0m\u001b[0mmemory_map\u001b[0m\u001b[0;34m,\u001b[0m\u001b[0;34m\u001b[0m\u001b[0;34m\u001b[0m\u001b[0m\n\u001b[0;32m--> 685\u001b[0;31m                     \u001b[0mfloat_precision\u001b[0m\u001b[0;34m=\u001b[0m\u001b[0mfloat_precision\u001b[0m\u001b[0;34m,\u001b[0m\u001b[0;34m\u001b[0m\u001b[0;34m\u001b[0m\u001b[0m\n\u001b[0m\u001b[1;32m    686\u001b[0m \u001b[0;34m\u001b[0m\u001b[0m\n\u001b[1;32m    687\u001b[0m                     \u001b[0mna_filter\u001b[0m\u001b[0;34m=\u001b[0m\u001b[0mna_filter\u001b[0m\u001b[0;34m,\u001b[0m\u001b[0;34m\u001b[0m\u001b[0;34m\u001b[0m\u001b[0m\n",
            "\u001b[0;32m/usr/local/lib/python3.6/dist-packages/pandas/io/parsers.py\u001b[0m in \u001b[0;36m_read\u001b[0;34m(filepath_or_buffer, kwds)\u001b[0m\n\u001b[1;32m    455\u001b[0m     \u001b[0;34m'names'\u001b[0m\u001b[0;34m:\u001b[0m \u001b[0;32mNone\u001b[0m\u001b[0;34m,\u001b[0m\u001b[0;34m\u001b[0m\u001b[0;34m\u001b[0m\u001b[0m\n\u001b[1;32m    456\u001b[0m     \u001b[0;34m'prefix'\u001b[0m\u001b[0;34m:\u001b[0m \u001b[0;32mNone\u001b[0m\u001b[0;34m,\u001b[0m\u001b[0;34m\u001b[0m\u001b[0;34m\u001b[0m\u001b[0m\n\u001b[0;32m--> 457\u001b[0;31m     \u001b[0;34m'skiprows'\u001b[0m\u001b[0;34m:\u001b[0m \u001b[0;32mNone\u001b[0m\u001b[0;34m,\u001b[0m\u001b[0;34m\u001b[0m\u001b[0;34m\u001b[0m\u001b[0m\n\u001b[0m\u001b[1;32m    458\u001b[0m     \u001b[0;34m'skipfooter'\u001b[0m\u001b[0;34m:\u001b[0m \u001b[0;36m0\u001b[0m\u001b[0;34m,\u001b[0m\u001b[0;34m\u001b[0m\u001b[0;34m\u001b[0m\u001b[0m\n\u001b[1;32m    459\u001b[0m     \u001b[0;34m'nrows'\u001b[0m\u001b[0;34m:\u001b[0m \u001b[0;32mNone\u001b[0m\u001b[0;34m,\u001b[0m\u001b[0;34m\u001b[0m\u001b[0;34m\u001b[0m\u001b[0m\n",
            "\u001b[0;32m/usr/local/lib/python3.6/dist-packages/pandas/io/parsers.py\u001b[0m in \u001b[0;36m__init__\u001b[0;34m(self, f, engine, **kwds)\u001b[0m\n\u001b[1;32m    893\u001b[0m         \u001b[0mself\u001b[0m\u001b[0;34m.\u001b[0m\u001b[0m_engine\u001b[0m\u001b[0;34m.\u001b[0m\u001b[0mclose\u001b[0m\u001b[0;34m(\u001b[0m\u001b[0;34m)\u001b[0m\u001b[0;34m\u001b[0m\u001b[0;34m\u001b[0m\u001b[0m\n\u001b[1;32m    894\u001b[0m \u001b[0;34m\u001b[0m\u001b[0m\n\u001b[0;32m--> 895\u001b[0;31m     \u001b[0;32mdef\u001b[0m \u001b[0m_get_options_with_defaults\u001b[0m\u001b[0;34m(\u001b[0m\u001b[0mself\u001b[0m\u001b[0;34m,\u001b[0m \u001b[0mengine\u001b[0m\u001b[0;34m)\u001b[0m\u001b[0;34m:\u001b[0m\u001b[0;34m\u001b[0m\u001b[0;34m\u001b[0m\u001b[0m\n\u001b[0m\u001b[1;32m    896\u001b[0m         \u001b[0mkwds\u001b[0m \u001b[0;34m=\u001b[0m \u001b[0mself\u001b[0m\u001b[0;34m.\u001b[0m\u001b[0morig_options\u001b[0m\u001b[0;34m\u001b[0m\u001b[0;34m\u001b[0m\u001b[0m\n\u001b[1;32m    897\u001b[0m \u001b[0;34m\u001b[0m\u001b[0m\n",
            "\u001b[0;32m/usr/local/lib/python3.6/dist-packages/pandas/io/parsers.py\u001b[0m in \u001b[0;36m_make_engine\u001b[0;34m(self, engine)\u001b[0m\n\u001b[1;32m   1133\u001b[0m         \u001b[0mnrows\u001b[0m \u001b[0;34m=\u001b[0m \u001b[0m_validate_integer\u001b[0m\u001b[0;34m(\u001b[0m\u001b[0;34m'nrows'\u001b[0m\u001b[0;34m,\u001b[0m \u001b[0mnrows\u001b[0m\u001b[0;34m)\u001b[0m\u001b[0;34m\u001b[0m\u001b[0;34m\u001b[0m\u001b[0m\n\u001b[1;32m   1134\u001b[0m         \u001b[0mret\u001b[0m \u001b[0;34m=\u001b[0m \u001b[0mself\u001b[0m\u001b[0;34m.\u001b[0m\u001b[0m_engine\u001b[0m\u001b[0;34m.\u001b[0m\u001b[0mread\u001b[0m\u001b[0;34m(\u001b[0m\u001b[0mnrows\u001b[0m\u001b[0;34m)\u001b[0m\u001b[0;34m\u001b[0m\u001b[0;34m\u001b[0m\u001b[0m\n\u001b[0;32m-> 1135\u001b[0;31m \u001b[0;34m\u001b[0m\u001b[0m\n\u001b[0m\u001b[1;32m   1136\u001b[0m         \u001b[0;31m# May alter columns / col_dict\u001b[0m\u001b[0;34m\u001b[0m\u001b[0;34m\u001b[0m\u001b[0;34m\u001b[0m\u001b[0m\n\u001b[1;32m   1137\u001b[0m         \u001b[0mindex\u001b[0m\u001b[0;34m,\u001b[0m \u001b[0mcolumns\u001b[0m\u001b[0;34m,\u001b[0m \u001b[0mcol_dict\u001b[0m \u001b[0;34m=\u001b[0m \u001b[0mself\u001b[0m\u001b[0;34m.\u001b[0m\u001b[0m_create_index\u001b[0m\u001b[0;34m(\u001b[0m\u001b[0mret\u001b[0m\u001b[0;34m)\u001b[0m\u001b[0;34m\u001b[0m\u001b[0;34m\u001b[0m\u001b[0m\n",
            "\u001b[0;32m/usr/local/lib/python3.6/dist-packages/pandas/io/parsers.py\u001b[0m in \u001b[0;36m__init__\u001b[0;34m(self, src, **kwds)\u001b[0m\n\u001b[1;32m   1915\u001b[0m \u001b[0;34m\u001b[0m\u001b[0m\n\u001b[1;32m   1916\u001b[0m             \u001b[0;32mif\u001b[0m \u001b[0mself\u001b[0m\u001b[0;34m.\u001b[0m\u001b[0m_reader\u001b[0m\u001b[0;34m.\u001b[0m\u001b[0mheader\u001b[0m \u001b[0;32mis\u001b[0m \u001b[0;32mNone\u001b[0m \u001b[0;32mand\u001b[0m \u001b[0;32mnot\u001b[0m \u001b[0mpassed_names\u001b[0m\u001b[0;34m:\u001b[0m\u001b[0;34m\u001b[0m\u001b[0;34m\u001b[0m\u001b[0m\n\u001b[0;32m-> 1917\u001b[0;31m                 \u001b[0mself\u001b[0m\u001b[0;34m.\u001b[0m\u001b[0mindex_names\u001b[0m \u001b[0;34m=\u001b[0m \u001b[0;34m[\u001b[0m\u001b[0;32mNone\u001b[0m\u001b[0;34m]\u001b[0m \u001b[0;34m*\u001b[0m \u001b[0mlen\u001b[0m\u001b[0;34m(\u001b[0m\u001b[0mself\u001b[0m\u001b[0;34m.\u001b[0m\u001b[0mindex_names\u001b[0m\u001b[0;34m)\u001b[0m\u001b[0;34m\u001b[0m\u001b[0;34m\u001b[0m\u001b[0m\n\u001b[0m\u001b[1;32m   1918\u001b[0m \u001b[0;34m\u001b[0m\u001b[0m\n\u001b[1;32m   1919\u001b[0m         \u001b[0mself\u001b[0m\u001b[0;34m.\u001b[0m\u001b[0m_implicit_index\u001b[0m \u001b[0;34m=\u001b[0m \u001b[0mself\u001b[0m\u001b[0;34m.\u001b[0m\u001b[0m_reader\u001b[0m\u001b[0;34m.\u001b[0m\u001b[0mleading_cols\u001b[0m \u001b[0;34m>\u001b[0m \u001b[0;36m0\u001b[0m\u001b[0;34m\u001b[0m\u001b[0;34m\u001b[0m\u001b[0m\n",
            "\u001b[0;32mpandas/_libs/parsers.pyx\u001b[0m in \u001b[0;36mpandas._libs.parsers.TextReader.__cinit__\u001b[0;34m()\u001b[0m\n",
            "\u001b[0;32mpandas/_libs/parsers.pyx\u001b[0m in \u001b[0;36mpandas._libs.parsers.TextReader._setup_parser_source\u001b[0;34m()\u001b[0m\n",
            "\u001b[0;31mFileNotFoundError\u001b[0m: [Errno 2] File b'movies.csv' does not exist: b'movies.csv'"
          ]
        }
      ]
    },
    {
      "cell_type": "code",
      "metadata": {
        "id": "sb92xeJS-S9Q",
        "colab_type": "code",
        "colab": {}
      },
      "source": [
        "filmes.head()"
      ],
      "execution_count": 0,
      "outputs": []
    },
    {
      "cell_type": "code",
      "metadata": {
        "scrolled": true,
        "id": "jHpNQHd--S9T",
        "colab_type": "code",
        "colab": {}
      },
      "source": [
        "print(\"Carregamos %d filmes\" % len(filmes))\n",
        "if(len(filmes) != 9742):\n",
        "    print(\"ERRO! O conjunto de dados que estamos trabalhando nesse projeto possui 9742 elementos.\")"
      ],
      "execution_count": 0,
      "outputs": []
    },
    {
      "cell_type": "markdown",
      "metadata": {
        "id": "BoWtZ0G5-S9W",
        "colab_type": "text"
      },
      "source": [
        "Vamos extrair o ano dos filmes (código já pronto): "
      ]
    },
    {
      "cell_type": "code",
      "metadata": {
        "id": "ZvsMUB3V-S9W",
        "colab_type": "code",
        "colab": {}
      },
      "source": [
        "ano_de_lancamento = filmes.titulo.str.extract(\"\\((\\d{4})\\)\")\n",
        "filmes['ano_de_lancamento'] = ano_de_lancamento.astype(float)\n",
        "filmes.head()"
      ],
      "execution_count": 0,
      "outputs": []
    },
    {
      "cell_type": "markdown",
      "metadata": {
        "id": "Ze66sqWA-S9Y",
        "colab_type": "text"
      },
      "source": [
        "## Pergunta: carregando as notas\n",
        "\n",
        "- os dados `https://raw.githubusercontent.com/alura-cursos/formacao-data-science/master/ratings.csv` devem ser carregado em `notas`\n",
        "- renomeie as colunas para `usuarioId`, `filmeId`, `nota` e `momento`"
      ]
    },
    {
      "cell_type": "code",
      "metadata": {
        "id": "dL6b7Z3c-S9Z",
        "colab_type": "code",
        "colab": {}
      },
      "source": [
        "notas = pd.read_csv('ratings.csv')\n",
        "notas.columns = (['usuarioId','filmeId','nota','momento'])"
      ],
      "execution_count": 0,
      "outputs": []
    },
    {
      "cell_type": "code",
      "metadata": {
        "id": "jC4wlIUf-S9b",
        "colab_type": "code",
        "colab": {}
      },
      "source": [
        "notas.head()"
      ],
      "execution_count": 0,
      "outputs": []
    },
    {
      "cell_type": "markdown",
      "metadata": {
        "id": "BxlF8xuO-S9e",
        "colab_type": "text"
      },
      "source": [
        "## Pergunta: gere uma nova feature, a média dos votos por filme\n",
        "\n",
        "- crie uma nova coluna chamada `nota_media` dentro do dataframe `filmes`\n",
        "\n",
        "Dicas:\n",
        "- como filmeId já é o indice de seu dataframe filmes, se você possui uma série com o número de votos por filme, basta atribuir uma nova coluna normalmente que será usado o mesmo índice"
      ]
    },
    {
      "cell_type": "code",
      "metadata": {
        "id": "xKd6AsQm-S9e",
        "colab_type": "code",
        "colab": {}
      },
      "source": [
        "filmes['nota_media'] = (notas.groupby(['filmeId']).mean()['nota'])\n"
      ],
      "execution_count": 0,
      "outputs": []
    },
    {
      "cell_type": "code",
      "metadata": {
        "id": "qqf5RXaO-S9g",
        "colab_type": "code",
        "colab": {}
      },
      "source": [
        "filmes.head()"
      ],
      "execution_count": 0,
      "outputs": []
    },
    {
      "cell_type": "markdown",
      "metadata": {
        "id": "OytsFSnV-S9i",
        "colab_type": "text"
      },
      "source": [
        "## Pergunta: remova os filmes com menos de 50 avaliações\n",
        "\n",
        "- conte o número de notas por filme\n",
        "- adicione uma coluna nova chamada `total_de_votos` a `filmes` que representa o número de avaliações que aquele filme teve no conjunto de dados\n",
        "- remova os que tem 49 ou menos de `filmes`"
      ]
    },
    {
      "cell_type": "markdown",
      "metadata": {
        "id": "TryPSAON-S9j",
        "colab_type": "text"
      },
      "source": [
        "## Solução"
      ]
    },
    {
      "cell_type": "code",
      "metadata": {
        "id": "YyqM_ydO-S9j",
        "colab_type": "code",
        "colab": {}
      },
      "source": [
        "# solução para calcular o total de votos por filme\n",
        "\n",
        "filmes['total_de_votos'] = notas.groupby(['filmeId']).count()['nota']\n",
        "filmes.head()"
      ],
      "execution_count": 0,
      "outputs": []
    },
    {
      "cell_type": "code",
      "metadata": {
        "id": "vIv6T4Ok-S9n",
        "colab_type": "code",
        "colab": {}
      },
      "source": [
        "# solução para criar a nova coluna e filtrar os filmes\n",
        "filmes = filmes.loc[filmes['total_de_votos'] > 50]"
      ],
      "execution_count": 0,
      "outputs": []
    },
    {
      "cell_type": "code",
      "metadata": {
        "id": "JA1bq--Q-S9p",
        "colab_type": "code",
        "colab": {}
      },
      "source": [
        "filmes.head()"
      ],
      "execution_count": 0,
      "outputs": []
    },
    {
      "cell_type": "markdown",
      "metadata": {
        "id": "6ua1rqW4-S9r",
        "colab_type": "text"
      },
      "source": [
        "# Visualizando os dados gerais"
      ]
    },
    {
      "cell_type": "markdown",
      "metadata": {
        "id": "ihaYEehL-S9s",
        "colab_type": "text"
      },
      "source": [
        "## Pergunta: Visualize as notas médias\n",
        "\n",
        "- histograma\n",
        "- cummulative distribution function\n",
        "\n",
        "Dicas:\n",
        "\n",
        "- lembre-se de colocar um título nas imagens além de nomes nos eixos x e y\n",
        "- para gerar a versão cumulativa lembre-se de usar os parâmetros `hist_kws` e `kde_kws` para definir `'cumulative'=True`"
      ]
    },
    {
      "cell_type": "code",
      "metadata": {
        "id": "MGZYvMO9-S9t",
        "colab_type": "code",
        "colab": {}
      },
      "source": [
        "# solução histograma\n",
        "# solução histograma\n",
        "import matplotlib.pyplot as plt\n",
        "\n",
        "plt.figure(figsize=(15,5))\n",
        "ax = sns.distplot(filmes.nota_media)\n",
        "ax.set(xlabel='Notas', ylabel='Densidade')\n",
        "ax.set_title('Notas médias dos filmes com mais de 50 avaliações')\n"
      ],
      "execution_count": 0,
      "outputs": []
    },
    {
      "cell_type": "code",
      "metadata": {
        "id": "3IriGVkg-S9v",
        "colab_type": "code",
        "colab": {}
      },
      "source": [
        "# solução cumulativa\n",
        "plt.figure(figsize=(15,5))\n",
        "ax = sns.distplot(filmes.nota_media,\n",
        "                 hist_kws={'cumulative':True},\n",
        "                 kde_kws={'cumulative':True})\n",
        "ax.set(xlabel='Notas', ylabel='Densidade acumulada')\n",
        "ax.set_title('Notas médias acumuladas dos filmes com mais de 50 avaliações')"
      ],
      "execution_count": 0,
      "outputs": []
    },
    {
      "cell_type": "markdown",
      "metadata": {
        "id": "XuRlOukG-S9x",
        "colab_type": "text"
      },
      "source": [
        "## Pergunta: Visualize o total de votos\n",
        "\n",
        "- histograma\n",
        "- cummulative distribution function"
      ]
    },
    {
      "cell_type": "code",
      "metadata": {
        "id": "xUAKWXCS-S9x",
        "colab_type": "code",
        "colab": {}
      },
      "source": [
        "# solução histograma\n",
        "plt.figure(figsize=(15,5))\n",
        "ax = sns.distplot(filmes.total_de_votos)\n",
        "ax.set(xlabel='Quantidade de Votos', ylabel='Densidade')\n",
        "ax.set_title('Quantidade de Votos filmes com mais de 50 avaliações')"
      ],
      "execution_count": 0,
      "outputs": []
    },
    {
      "cell_type": "code",
      "metadata": {
        "id": "--qS0ZVX-S9z",
        "colab_type": "code",
        "colab": {}
      },
      "source": [
        "# solução cumulativa\n",
        "plt.figure(figsize=(15,5))\n",
        "ax = sns.distplot(filmes.total_de_votos,\n",
        "                 hist_kws={'cumulative':True},\n",
        "                 kde_kws={'cumulative':True})\n",
        "ax.set(xlabel='Quantidade de Votos', ylabel='Densidade acumulada')\n",
        "ax.set_title('Quantidade de Votos filmes com mais de 50 avaliações')"
      ],
      "execution_count": 0,
      "outputs": []
    },
    {
      "cell_type": "markdown",
      "metadata": {
        "id": "DQUUmk0g-S91",
        "colab_type": "text"
      },
      "source": [
        "## Pergunta: 20% dos filmes do dataframe tem nota maior que? \n",
        "\n",
        "- lembre-se da função `quantile` do pandas"
      ]
    },
    {
      "cell_type": "code",
      "metadata": {
        "id": "7xAffA2Y-S92",
        "colab_type": "code",
        "colab": {}
      },
      "source": [
        "# solução\n",
        "nota_limite_dos_20_porcento = filmes.nota_media.quantile(q=0.2)"
      ],
      "execution_count": 0,
      "outputs": []
    },
    {
      "cell_type": "code",
      "metadata": {
        "id": "q72iRdqY-S94",
        "colab_type": "code",
        "colab": {}
      },
      "source": [
        "print(\"20 porcento dos filmes tem nota maior que de %.2f\" % nota_limite_dos_20_porcento)"
      ],
      "execution_count": 0,
      "outputs": []
    },
    {
      "cell_type": "markdown",
      "metadata": {
        "id": "NNC2gT9W-S95",
        "colab_type": "text"
      },
      "source": [
        "## Vamos separar a coluna `generos` em diversas colunas.\n",
        "\n",
        "- O código já está pronto."
      ]
    },
    {
      "cell_type": "code",
      "metadata": {
        "id": "J17x5WV9-S96",
        "colab_type": "code",
        "colab": {}
      },
      "source": [
        "filmes['generos'] = filmes['generos'].str.replace('-', '')\n",
        "generos = filmes['generos'].str.get_dummies()\n",
        "print(\"Temos %d generos distintos\" % generos.shape[1])"
      ],
      "execution_count": 0,
      "outputs": []
    },
    {
      "cell_type": "code",
      "metadata": {
        "id": "H-iRn4PY-S98",
        "colab_type": "code",
        "colab": {}
      },
      "source": [
        "filmes = filmes.join(generos).drop(columns=['generos'], axis=1)\n",
        "filmes.head()"
      ],
      "execution_count": 0,
      "outputs": []
    },
    {
      "cell_type": "markdown",
      "metadata": {
        "id": "pc3J-qsR-S9-",
        "colab_type": "text"
      },
      "source": [
        "## Pergunta: visualização de quantos filmes existem por genero\n",
        "\n",
        "- Para cada um dos generos você deve agrupar o número de filmes\n",
        "- Ordene as barras, na esquerda o genero com mais filmes, na direita o que tem menos filmes\n",
        "\n",
        "Dica:\n",
        "\n",
        "- Para fazer a soma de uma ou mais colunas individualmente você pode usar `seu_dataframe.sum()`\n",
        "- Não precisa usar o dataframe `filmes`, somente o dataframe `generos`\n",
        "- Em certas situações é mais fácil usar as funções de plotagem do pandas ao invés do seaborn"
      ]
    },
    {
      "cell_type": "code",
      "metadata": {
        "id": "0Ttn3Nu2-S9_",
        "colab_type": "code",
        "colab": {}
      },
      "source": [
        "# solução\n",
        "generos.sum()"
      ],
      "execution_count": 0,
      "outputs": []
    },
    {
      "cell_type": "markdown",
      "metadata": {
        "id": "4Xrwdq_Y-S-A",
        "colab_type": "text"
      },
      "source": [
        "## Pergunta: Quais são os 5 generos com mais filmes?\n",
        "\n",
        "Dica:\n",
        "\n",
        "- `sort_values()` pode ordenar uma Series do pandas"
      ]
    },
    {
      "cell_type": "code",
      "metadata": {
        "id": "zDunK-tr-S-B",
        "colab_type": "code",
        "colab": {}
      },
      "source": [
        "# solução\n",
        "top5_generos_em_quantidade_de_filmes = generos.sum().sort_values(ascending=False)[:5]"
      ],
      "execution_count": 0,
      "outputs": []
    },
    {
      "cell_type": "code",
      "metadata": {
        "id": "JCAslQFl-S-D",
        "colab_type": "code",
        "colab": {}
      },
      "source": [
        "print(top5_generos_em_quantidade_de_filmes)"
      ],
      "execution_count": 0,
      "outputs": []
    },
    {
      "cell_type": "markdown",
      "metadata": {
        "id": "ixvea42A-S-F",
        "colab_type": "text"
      },
      "source": [
        "## Pergunta: visualização de votos por genero\n",
        "\n",
        "- o código que gera os votos por genero já está pronto\n",
        "- ordene as categorias da mais visualizada para a menos visualizada\n",
        "- gere a visualização por genero"
      ]
    },
    {
      "cell_type": "code",
      "metadata": {
        "id": "G-GJfXux-S-G",
        "colab_type": "code",
        "colab": {}
      },
      "source": [
        "votos_por_genero_por_filme = pd.DataFrame((generos.values.T * filmes['total_de_votos'].values).T, columns = generos.columns)\n",
        "votos_por_genero_por_filme.head()"
      ],
      "execution_count": 0,
      "outputs": []
    },
    {
      "cell_type": "code",
      "metadata": {
        "id": "C8VMNC1W-S-I",
        "colab_type": "code",
        "colab": {}
      },
      "source": [
        "# solucão\n",
        "votos_por_genero_por_filme.sum().sort_values(ascending=False)"
      ],
      "execution_count": 0,
      "outputs": []
    },
    {
      "cell_type": "code",
      "metadata": {
        "id": "XRtOmX_1-S-K",
        "colab_type": "code",
        "colab": {}
      },
      "source": [
        "# solução\n",
        "\n",
        "result = pd.concat([generos.sum(), votos_por_genero_por_filme.sum()], axis=1, keys=['quantidade_filmes', 'votos_por_filme'])\n",
        "result.index.name='generos'\n",
        "result"
      ],
      "execution_count": 0,
      "outputs": []
    },
    {
      "cell_type": "markdown",
      "metadata": {
        "id": "QiELYYFs-S-M",
        "colab_type": "text"
      },
      "source": [
        "## Pergunta : votos por filme por genero\n",
        "\n",
        "Queremos entender a quantidade de votos em relação a quantidade de filmes existentes naquele genero.\n",
        "\n",
        "Por exemplo: \n",
        "- se temos 1000 votos de `Ação` e 10 filmes desse genero, foram 100 votos por filme nesse genero.\n",
        "- se o gênero `Documentário` tem 2 filmes e 500 votos, ele tem 250 votos por filme nesse gênero.\n",
        "\n",
        "Queremos entender isso, a \"popularidade\" média de um filme em cada categoria, isto é, o número de votos dividido pelo número de filmes, organizado para cada categoria.\n",
        "\n",
        "- Você já possui o número de votos por genero\n",
        "- Calcule o número de votos por genero dividido pelo total de filmes por genero\n",
        "- Ordene do maior para o menor\n",
        "- Plote um gráfico para visualizarmos esses dados"
      ]
    },
    {
      "cell_type": "code",
      "metadata": {
        "id": "dKajK9pk-S-M",
        "colab_type": "code",
        "colab": {}
      },
      "source": [
        "# solucao código\n",
        "\n",
        "result['votos_por_genero'] = result.votos_por_filme/result.quantidade_filmes\n",
        "result = result.sort_values(\"votos_por_genero\", ascending=False)\n",
        "result"
      ],
      "execution_count": 0,
      "outputs": []
    },
    {
      "cell_type": "code",
      "metadata": {
        "id": "YhhdtCh--S-O",
        "colab_type": "code",
        "colab": {}
      },
      "source": [
        "# solução com visualização \n",
        "plt.figure(figsize=(18,5))\n",
        "sns.barplot(x = result.index, y = (\"votos_por_genero\"), data = result )"
      ],
      "execution_count": 0,
      "outputs": []
    },
    {
      "cell_type": "markdown",
      "metadata": {
        "id": "-7sGSRwB-S-Q",
        "colab_type": "text"
      },
      "source": [
        "## Pergunta: Olhando as 3 últimas visualizações o que você conclui sobre os generos `Action` e `War`?"
      ]
    },
    {
      "cell_type": "markdown",
      "metadata": {
        "id": "J3Rfp7JY-S-R",
        "colab_type": "text"
      },
      "source": [
        "### Solução (texto livre):\n",
        "    \n",
        "Verificamos que os filmes com a categoria Action está entre as 5 categorias com mais filmes, tendo a maior quantidade de votos, enquanto a categoria war por mais que esteja entre as categorias com menos filmes, tem a maior quantidade de votos por filme dentre os gêneros.    "
      ]
    },
    {
      "cell_type": "markdown",
      "metadata": {
        "id": "6yYMAXeY-S-R",
        "colab_type": "text"
      },
      "source": [
        "## Pergunta: Crie 2 boxplots no mesmo plot comparando a coluna `total_de_votos` dos filmes de categoria `Horror` e `Adventure`  \n",
        "\n",
        "Dica:\n",
        "\n",
        "- as vezes é mais fácil usar o boxplot do matplotlib ao invés do seaborn\n",
        "- plt.boxplot suporta o parâmetro labels com uma lista de nomes para cada boxplot plotado"
      ]
    },
    {
      "cell_type": "code",
      "metadata": {
        "id": "kSoo-qAk-S-S",
        "colab_type": "code",
        "colab": {}
      },
      "source": [
        "# solução:\n",
        "Acao = votos_por_genero_por_filme.query(\"Action > 0\").Action\n",
        "Aventura = Acao = votos_por_genero_por_filme.query(\"Adventure > 0\").Adventure\n",
        "data = [Acao, Aventura]\n",
        "fig, ax = plt.subplots()\n",
        "ax.set_title('Distribuição da quantidade de filmes por Gênero')\n",
        "ax.boxplot(data, labels=['Ação','Aventura'])\n",
        "\n",
        "plt.show()\n",
        "\n",
        "# Separei as categorias e fiz um filtro para votos > 0.\n"
      ],
      "execution_count": 0,
      "outputs": []
    },
    {
      "cell_type": "markdown",
      "metadata": {
        "id": "fXfHJKiz-S-U",
        "colab_type": "text"
      },
      "source": [
        "## Pergunta: mostre agora um boxplot para cada uma das categorias\n",
        "\n",
        "Dica:\n",
        "- use generos.columns para acessar todos os gêneros\n",
        "- já removemos os hífens dos nomes das colunas quando criamos as colunas de gêneros\n",
        "- plt (pyplot) do matplotlib suporta a função xticks(rotation=90) para rotacionar os labels"
      ]
    },
    {
      "cell_type": "code",
      "metadata": {
        "id": "1qHriCPR-S-V",
        "colab_type": "code",
        "colab": {}
      },
      "source": [
        "for x in generos.columns:\n",
        "  ax.boxplot(votos_por_genero_por_filme[x].loc[votos_por_genero_por_filme[x] > 0], labels=[x])\n",
        "  fig, ax = plt.subplots()\n",
        "  \n",
        "plt.show()"
      ],
      "execution_count": 0,
      "outputs": []
    },
    {
      "cell_type": "code",
      "metadata": {
        "id": "rQLSM8yK-S-W",
        "colab_type": "code",
        "colab": {}
      },
      "source": [
        "# solução:\n",
        "Horror = votos_por_genero_por_filme.query(\"Horror > 0\").Horror\n",
        "Aventura = Acao = votos_por_genero_por_filme.query(\"Adventure > 0\").Adventure\n",
        "data = [Horror, Aventura]\n",
        "fig, ax = plt.subplots()\n",
        "ax.set_title('Distribuição da quantidade de filmes por Gênero')\n",
        "ax.boxplot(data, labels=['Horror','Aventura'])\n",
        "\n",
        "plt.show()\n",
        "\n",
        "# Separei as categorias e fiz um filtro para votos > 0."
      ],
      "execution_count": 0,
      "outputs": []
    },
    {
      "cell_type": "markdown",
      "metadata": {
        "id": "mVqd4A_m-S-Y",
        "colab_type": "text"
      },
      "source": [
        "## Pergunta: desejo criar um filme com somente um dos gêneros: `Horror` ou `Adventure`. Quero ter uma chance maior de ter um faturamento que pague minhas contas, mesmo que não seja um super sucesso absurdo de vendas. Qual dos 2 gêneros você sugere?"
      ]
    },
    {
      "cell_type": "markdown",
      "metadata": {
        "id": "wT7AzUY9-S-Y",
        "colab_type": "text"
      },
      "source": [
        "### Solução:\n",
        "    \n",
        "Pela visualização de votos por filme, poderiamos escolher o filme de aventura, que parece ter uma distribuição com média maior do que o filme de horror."
      ]
    },
    {
      "cell_type": "markdown",
      "metadata": {
        "id": "zbbEl-vm-S-Z",
        "colab_type": "text"
      },
      "source": [
        "## Pergunta: nossa análise foi até então visual. Aplique um teste estatístico para verificar se existe significância estatística na distribuição dos votos dos filmes de `Adventure` e `Horror`. Sua recomendação continua a mesma? Explique.\n",
        "\n",
        "Passos:\n",
        "\n",
        "- visualize a distribuição de ambas através de histogramas\n",
        "- se suspeitar normalidade na distribuição, faça um teste de normalidade para ambas\n",
        "- aplique um teste adequado de comparação das distribuições\n",
        "- explique o resultado encontrado\n",
        "- utilize p=0.05"
      ]
    },
    {
      "cell_type": "code",
      "metadata": {
        "id": "P6JimayQ-S-Z",
        "colab_type": "code",
        "colab": {}
      },
      "source": [
        "# solucao histograma de aventura\n",
        "sns.distplot(votos_por_genero_por_filme.query(\"Adventure > 0\").Adventure)"
      ],
      "execution_count": 0,
      "outputs": []
    },
    {
      "cell_type": "code",
      "metadata": {
        "id": "QcddwZKZ-S-c",
        "colab_type": "code",
        "colab": {}
      },
      "source": [
        "# solucao histograma de horror\n",
        "sns.distplot(votos_por_genero_por_filme.query(\"Horror > 0\").Horror)"
      ],
      "execution_count": 0,
      "outputs": []
    },
    {
      "cell_type": "code",
      "metadata": {
        "id": "bkyDc7pA-S-e",
        "colab_type": "code",
        "colab": {}
      },
      "source": [
        "# solucao teste de normalidade ou justificativa para nao utiliza-lo\n",
        "from statsmodels.stats.weightstats import zconfint\n",
        "\n",
        "print(\"Intervalo de confiança para Horror = \", zconfint(votos_por_genero_por_filme.query(\"Horror > 0\").Horror))\n",
        "print(\"Intervalo de confiança para Aventura = \", zconfint(votos_por_genero_por_filme.query(\"Adventure > 0\").Adventure))"
      ],
      "execution_count": 0,
      "outputs": []
    },
    {
      "cell_type": "code",
      "metadata": {
        "id": "vDNt4qEO-S-h",
        "colab_type": "code",
        "colab": {}
      },
      "source": [
        "from statsmodels.stats.weightstats import ztest\n",
        "\n",
        "notas_horror = votos_por_genero_por_filme.query(\"Horror > 0\").Horror\n",
        "notas_aventura = votos_por_genero_por_filme.query(\"Adventure > 0\").Adventure\n",
        "\n",
        "# solução com o teste desejado\n",
        "print (ztest(notas_horror,notas_aventura ))\n",
        "zconfint(notas_horror, notas_aventura)"
      ],
      "execution_count": 0,
      "outputs": []
    },
    {
      "cell_type": "markdown",
      "metadata": {
        "id": "Gn3ftNHJ-S-j",
        "colab_type": "text"
      },
      "source": [
        "### Solução (explique sua conclusão):\n",
        "\n",
        "Notamos que comparando as duas amostras, o p value encontrado utilizando o Z test é de 0.14 que é maior que o p_value de 0.05 desejado.\n",
        "Não podemos descartar a h0, portanto não conseguimos determinar que há diferença estatística entre as duas amostras. "
      ]
    },
    {
      "cell_type": "markdown",
      "metadata": {
        "id": "j3doH4yv-S-l",
        "colab_type": "text"
      },
      "source": [
        "## Pergunta: Faça os mesmos boxplots para as notas médias (`nota_media`) dos gêneros `Adventure` e `Horror`."
      ]
    },
    {
      "cell_type": "code",
      "metadata": {
        "id": "62GUhi7h-S-n",
        "colab_type": "code",
        "colab": {}
      },
      "source": [
        "subset_filmes = filmes[['nota_media','Horror','Adventure']]"
      ],
      "execution_count": 0,
      "outputs": []
    },
    {
      "cell_type": "code",
      "metadata": {
        "id": "4UhFMm5b-S-o",
        "colab_type": "code",
        "colab": {}
      },
      "source": [
        "# solução:\n",
        "\n",
        "Horror = subset_filmes.query(\"Horror > 0\").nota_media\n",
        "Aventura = subset_filmes.query(\"Adventure > 0\").nota_media\n",
        "data = [Horror, Aventura]\n",
        "fig, ax = plt.subplots()\n",
        "ax.set_title('Distribuição das notas médias dos filmes por Gênero')\n",
        "ax.boxplot(data, labels=['Horror','Aventura'])\n",
        "\n",
        "plt.show()"
      ],
      "execution_count": 0,
      "outputs": []
    },
    {
      "cell_type": "code",
      "metadata": {
        "id": "ECYJta8h-S-q",
        "colab_type": "code",
        "colab": {}
      },
      "source": [
        ""
      ],
      "execution_count": 0,
      "outputs": []
    },
    {
      "cell_type": "markdown",
      "metadata": {
        "id": "BaTq9VVi-S-s",
        "colab_type": "text"
      },
      "source": [
        "## Pergunta: Quero fazer um filme que seja sucesso de crítica, com pessoas dando notas altas, mesmo que não tenha um número muito grande de pessoas assistindo. Qual gênero você recomenda se tenho que escolher somente um entre `Adventure` e `Horror`?"
      ]
    },
    {
      "cell_type": "markdown",
      "metadata": {
        "id": "vsHDMmwl-S-t",
        "colab_type": "text"
      },
      "source": [
        "### Solução:\n",
        "Visualmente, Horror parece um gênero com maior média de notas.\n"
      ]
    },
    {
      "cell_type": "markdown",
      "metadata": {
        "id": "8ENy6wL2-S-t",
        "colab_type": "text"
      },
      "source": [
        "## Pergunta: nossa análise foi até então visual. Aplique um teste estatístico para verificar se existe significância estatística na distribuição das notas dos filmes de `Adventure` e `Horror`.\n",
        "\n",
        "Passos:\n",
        "\n",
        "- visualize a distribuição de ambas através de histogramas\n",
        "- se suspeitar normalidade na distribuição, faça um teste de normalidade para ambas\n",
        "- aplique um teste adequado de comparação das distribuições\n",
        "- explique o resultado encontrado\n",
        "- utilize p=0.05"
      ]
    },
    {
      "cell_type": "code",
      "metadata": {
        "id": "RPFCvuO9-S-u",
        "colab_type": "code",
        "colab": {}
      },
      "source": [
        "# solucao histograma de aventura\n",
        "sns.distplot(Horror)"
      ],
      "execution_count": 0,
      "outputs": []
    },
    {
      "cell_type": "code",
      "metadata": {
        "id": "Q2_qXAMW-S-x",
        "colab_type": "code",
        "colab": {}
      },
      "source": [
        "# solucao histograma de horror\n",
        "sns.distplot(Aventura)"
      ],
      "execution_count": 0,
      "outputs": []
    },
    {
      "cell_type": "code",
      "metadata": {
        "id": "Luh95Lzv-S-z",
        "colab_type": "code",
        "colab": {}
      },
      "source": [
        "# solucao teste de normalidade ou justificativa para nao utiliza-lo\n",
        "print(\"Intervalo de confiança para Horror = \", zconfint(Horror))\n",
        "print(\"Intervalo de confiança para Aventura = \", zconfint(Aventura))\n"
      ],
      "execution_count": 0,
      "outputs": []
    },
    {
      "cell_type": "code",
      "metadata": {
        "id": "WGAb7wmU-S-1",
        "colab_type": "code",
        "colab": {}
      },
      "source": [
        "# solução com o teste desejado\n",
        "print (ztest(Horror, Aventura ))\n",
        "zconfint(Horror,Aventura)"
      ],
      "execution_count": 0,
      "outputs": []
    },
    {
      "cell_type": "markdown",
      "metadata": {
        "id": "fT7YZb8T-S-4",
        "colab_type": "text"
      },
      "source": [
        "## Sua recomendação para maior sucesso de crítica em nota alta entre `Horror` e `Adventure` continua a mesma? Explique.\n",
        "\n"
      ]
    },
    {
      "cell_type": "code",
      "metadata": {
        "id": "AMvzG3XB-S-5",
        "colab_type": "code",
        "colab": {}
      },
      "source": [
        ""
      ],
      "execution_count": 0,
      "outputs": []
    },
    {
      "cell_type": "markdown",
      "metadata": {
        "id": "B1JzgGHf-S-6",
        "colab_type": "text"
      },
      "source": [
        "### Solução:\n",
        " Não, pois aplicando o teste de comparação entre as amostras, não conseguimos diferencias estatísticamente a média das notas nas categorias analisadas"
      ]
    },
    {
      "cell_type": "markdown",
      "metadata": {
        "id": "bJkUxje--S-7",
        "colab_type": "text"
      },
      "source": [
        "## Pergunta: Quero fazer um filme que seja primeiro sucesso de crítica, com pessoas dando notas altas. Em segundo lugar quero que seja popular (mais pessoas assistam). Com as informações visuais e estatísticas, supondo poder escolher somente um, qual dois 2 gêneros você recomenda agora? `Horror` ou `Adventure`?"
      ]
    },
    {
      "cell_type": "markdown",
      "metadata": {
        "id": "W8qZiYXX-S-7",
        "colab_type": "text"
      },
      "source": [
        "### Solução:\n",
        "Escolheria Adventure, pois analisando os primeiros resultados, temos visualmente uma média maior. Mesmo que não consigamos diferencias as amostras com os testes estatísticos.\n",
        "\n"
      ]
    },
    {
      "cell_type": "markdown",
      "metadata": {
        "id": "K8SDYi-e-S-7",
        "colab_type": "text"
      },
      "source": [
        "## Pergunta: Quais são os top 5 filmes dos 2 generos mais assistidas?\n",
        "\n",
        "- utilize os 2 generos mais votados em `votos_por_genero`\n",
        "- utilize a `nota_media` para definir o top 5 filmes\n",
        "- o resultado são 5, não 10 filmes"
      ]
    },
    {
      "cell_type": "code",
      "metadata": {
        "id": "GH5syN7V-S-8",
        "colab_type": "code",
        "colab": {}
      },
      "source": [
        "votos_por_genero = filmes.loc[(filmes[\"Action\"] == 1) | filmes[\"Drama\"] == 1][['titulo','nota_media','total_de_votos']]\n",
        "votos_por_genero"
      ],
      "execution_count": 0,
      "outputs": []
    },
    {
      "cell_type": "code",
      "metadata": {
        "id": "h1ULAb_8-S--",
        "colab_type": "code",
        "colab": {}
      },
      "source": [
        "# solução: calculando os 2 generos mais votados\n",
        "#ja havia analisado isso em um tópico anterior\n",
        "votos_por_genero_por_filme.sum().sort_values(ascending=False)[:2]"
      ],
      "execution_count": 0,
      "outputs": []
    },
    {
      "cell_type": "code",
      "metadata": {
        "id": "Yv6Kq6Fq-S-_",
        "colab_type": "code",
        "colab": {}
      },
      "source": [
        "# solução: encontrando os top 5 filmes desses generos\n",
        "votos_por_genero.sort_values(by='nota_media', ascending=False)[:5]"
      ],
      "execution_count": 0,
      "outputs": []
    },
    {
      "cell_type": "markdown",
      "metadata": {
        "id": "rsaUk-3S-S_A",
        "colab_type": "text"
      },
      "source": [
        "## Pergunta: Quais são os 2 generos com maior valor de correlação com a `nota_media`? E os 2 com menor valor de correlação com a `nota_media`?\n",
        "\n",
        "- O pandas possui a função `corr` para calcular correlação entre todas as colunas"
      ]
    },
    {
      "cell_type": "code",
      "metadata": {
        "id": "9hXQUykS-S_B",
        "colab_type": "code",
        "colab": {}
      },
      "source": [
        "# solucao\n",
        "print(\"Maior correlação:\\n\",filmes.corr()[\"nota_media\"].sort_values(ascending=False)[2:4])\n",
        "print(\"-----------------------\")\n",
        "print(\"Mmenor correlação:\\n\",filmes.corr()[\"nota_media\"].sort_values(ascending=False)[len(filmes.corr()[\"nota_media\"])-4:len(filmes.corr()[\"nota_media\"])-2])"
      ],
      "execution_count": 0,
      "outputs": []
    },
    {
      "cell_type": "markdown",
      "metadata": {
        "id": "yhuPggtX-S_C",
        "colab_type": "text"
      },
      "source": [
        "## Pergunta: Quais são os 2 generos com maior valor de correlação com `total_de_votos`? E quais os 2 com menor valor de correlação com `total_de_votos`?"
      ]
    },
    {
      "cell_type": "code",
      "metadata": {
        "id": "ML8qjzxf-S_D",
        "colab_type": "code",
        "colab": {}
      },
      "source": [
        "# solucao\n",
        "print(\"Maior correlação:\\n\",filmes.corr()[\"total_de_votos\"].sort_values(ascending=False)[2:4])\n",
        "print(\"-----------------------\")\n",
        "print(\"Mmenor correlação:\\n\",filmes.corr()[\"total_de_votos\"].sort_values(ascending=False)[len(filmes.corr()[\"total_de_votos\"])-4:len(filmes.corr()[\"total_de_votos\"])-2])"
      ],
      "execution_count": 0,
      "outputs": []
    },
    {
      "cell_type": "markdown",
      "metadata": {
        "id": "aRv5l5B4-S_G",
        "colab_type": "text"
      },
      "source": [
        "## Pergunta: Visualize graficamente o relacionamento entre ano de lançamento e nota média\n",
        "\n",
        "- Use o gráfico `lineplot`"
      ]
    },
    {
      "cell_type": "code",
      "metadata": {
        "id": "f-7kRfD7-S_G",
        "colab_type": "code",
        "colab": {}
      },
      "source": [
        "# solucao\n",
        "sns.lineplot(x=\"ano_de_lancamento\",y=\"nota_media\",data=filmes)"
      ],
      "execution_count": 0,
      "outputs": []
    },
    {
      "cell_type": "markdown",
      "metadata": {
        "id": "kwSnaamo-S_I",
        "colab_type": "text"
      },
      "source": [
        "## Pergunta: Interprete a correlação entre `ano_de_lancamento` e a `nota_media`?\n",
        "\n",
        "- Calcule a correlação numericamente (use o `corr` do pandas)\n",
        "- Correlação não implica causalidade, qual \"problema\" na coleta dos dados pode gerar esse tipo de correlação?"
      ]
    },
    {
      "cell_type": "code",
      "metadata": {
        "id": "UiPL9Of9-S_I",
        "colab_type": "code",
        "colab": {}
      },
      "source": [
        "# solução (código)\n",
        "filmes.corr()"
      ],
      "execution_count": 0,
      "outputs": []
    },
    {
      "cell_type": "markdown",
      "metadata": {
        "id": "1bK7HMlv-S_J",
        "colab_type": "text"
      },
      "source": [
        "### Solução (explicação)\n",
        "\n",
        "Correlação de -0.16\n",
        "Neste caso, a coleta de dados pode viesar os votos dos filmes, com isso não conseguimos definir se o ano em que o filme foi lançado tem correlação com a sua nota.\n",
        "Outra análise pertinente é o conhecimento das variáveis para entender que não existe causalidade entre as variáveis."
      ]
    },
    {
      "cell_type": "markdown",
      "metadata": {
        "id": "tbkije5V-S_K",
        "colab_type": "text"
      },
      "source": [
        "## Pergunta: analise um pairplot\n",
        "\n",
        "- crie uma variável chamada `infos` baseada nas colunas `ano_de_lancamento`, `nota_media` e `total_de_votos` de `filmes`\n",
        "- faça o pairplot usando seaborn\n",
        "- coloque uma regressão linear para cada pequeno plot dentro dele"
      ]
    },
    {
      "cell_type": "code",
      "metadata": {
        "id": "KOPmVHS0-S_K",
        "colab_type": "code",
        "colab": {}
      },
      "source": [
        "# solução\n",
        "infos = filmes[['ano_de_lancamento','nota_media','total_de_votos']]\n",
        "sns.pairplot(infos, kind=\"reg\")"
      ],
      "execution_count": 0,
      "outputs": []
    },
    {
      "cell_type": "markdown",
      "metadata": {
        "id": "n-0z0YG5-S_M",
        "colab_type": "text"
      },
      "source": [
        "## Pergunta: analise um pairplot dos filmes de `Animation`\n",
        "\n",
        "- use o dataframe `filmes`\n",
        "- em um único pairplot separe com cores distintas os filmes da categoria `Animation` dos outros\n",
        "- use uma palete como `husl`\n",
        "- use marcadores distintos para cada um dos dois grupos\n",
        "- faça o pairplot usando seaborn e coloque uma regressão linear para cada pequeno plot dentro dele\n",
        "- tanto em x quanto y use somente três variáveis: `total_de_votos`, `ano_de_lancamento`, `nota_media`"
      ]
    },
    {
      "cell_type": "code",
      "metadata": {
        "id": "0osDn7B--S_M",
        "colab_type": "code",
        "colab": {}
      },
      "source": [
        "filmes ['tier'] = \\\n",
        "        np.where((filmes.Animation == 1), 'Animation', 'Others')"
      ],
      "execution_count": 0,
      "outputs": []
    },
    {
      "cell_type": "code",
      "metadata": {
        "id": "KdUij0_2-S_O",
        "colab_type": "code",
        "colab": {}
      },
      "source": [
        "anim = filmes[['ano_de_lancamento','nota_media','total_de_votos','tier']]\n",
        "sns.pairplot(anim, kind=\"reg\", hue=\"tier\", palette=\"husl\",  markers=[\"o\", \"s\"] )\n"
      ],
      "execution_count": 0,
      "outputs": []
    },
    {
      "cell_type": "markdown",
      "metadata": {
        "id": "Gb4itCI--S_Q",
        "colab_type": "text"
      },
      "source": [
        "## Pergunta: Analise a regressão em relação ao ano de lançamento.\n",
        "\n",
        "- Como parece se comportar a `nota_media` de filmes de `Animation` mais antigos e mais recentes? (ano_de_lancamento x nota_media). Essa correlação parece ser baixa, mas parece ser linear?\n",
        "- E o `ano_de_lancamento` x `total_de_votos`?\n",
        "- E das outras categorias? Compare isso com os outros filmes.\n",
        "- O que leva você levantar como hipótese para esse resultado?"
      ]
    },
    {
      "cell_type": "code",
      "metadata": {
        "id": "OfdSePS1-S_Q",
        "colab_type": "code",
        "colab": {}
      },
      "source": [
        "print(anim.loc[anim['tier'] == \"Animation\"].corr())\n",
        "print(len(anim.loc[anim['tier'] == \"Animation\"]))"
      ],
      "execution_count": 0,
      "outputs": []
    },
    {
      "cell_type": "code",
      "metadata": {
        "id": "QBfWpBtJ-S_T",
        "colab_type": "code",
        "colab": {}
      },
      "source": [
        "print(anim.loc[anim['tier'] != \"Animation\"].corr())\n",
        "print(len(anim.loc[anim['tier'] != \"Animation\"]))"
      ],
      "execution_count": 0,
      "outputs": []
    },
    {
      "cell_type": "markdown",
      "metadata": {
        "id": "eNgKzUuZ-S_U",
        "colab_type": "text"
      },
      "source": [
        "### Solução:\n",
        "\n",
        "|Comparativamente com os outros filmes, animação parece ter uma correlação linear entre os filmes mais novos e melhores notas/total de votos.\n",
        "\n",
        "Podemos inferir que com o passo do tempo as animações tem melhorado de qualidade, assim como atingido um maior publico.\n"
      ]
    },
    {
      "cell_type": "markdown",
      "metadata": {
        "id": "tlt6qdRS-S_V",
        "colab_type": "text"
      },
      "source": [
        "## Pergunta: Explore\n",
        "\n",
        "- compartilhe conosco 2 visualizações extras que julgar interessante\n",
        "- explique o que encontrou\n",
        "- use quantas células (texto ou código) julgar necessário"
      ]
    },
    {
      "cell_type": "code",
      "metadata": {
        "id": "ToNnXHmR-S_V",
        "colab_type": "code",
        "colab": {}
      },
      "source": [
        "# solução\n"
      ],
      "execution_count": 0,
      "outputs": []
    },
    {
      "cell_type": "code",
      "metadata": {
        "id": "5cMXVm7w-S_W",
        "colab_type": "code",
        "colab": {}
      },
      "source": [
        ""
      ],
      "execution_count": 0,
      "outputs": []
    }
  ]
}